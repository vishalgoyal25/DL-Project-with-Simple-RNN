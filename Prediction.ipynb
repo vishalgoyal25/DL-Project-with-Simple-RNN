{
 "cells": [
  {
   "cell_type": "markdown",
   "id": "84f066cb",
   "metadata": {},
   "source": [
    "# Step 1: Import Libraries and Load the Model"
   ]
  },
  {
   "cell_type": "code",
   "execution_count": null,
   "id": "8948b625",
   "metadata": {},
   "outputs": [],
   "source": [
    "\n",
    "import numpy as np\n",
    "import tensorflow as tf\n",
    "from tensorflow.keras.datasets import imdb\n",
    "from tensorflow.keras.preprocessing import sequence\n",
    "from tensorflow.keras.models import load_model"
   ]
  },
  {
   "cell_type": "code",
   "execution_count": 2,
   "id": "a3ff565f",
   "metadata": {},
   "outputs": [],
   "source": [
    "\n",
    "# Load the IMDB dataset word index\n",
    "word_index = imdb.get_word_index()\n",
    "reverse_word_index = {value: key for key, value in word_index.items()}"
   ]
  },
  {
   "cell_type": "code",
   "execution_count": 3,
   "id": "75e4c0c8",
   "metadata": {},
   "outputs": [
    {
     "name": "stderr",
     "output_type": "stream",
     "text": [
      "WARNING:absl:Compiled the loaded model, but the compiled metrics have yet to be built. `model.compile_metrics` will be empty until you train or evaluate the model.\n"
     ]
    },
    {
     "data": {
      "text/html": [
       "<pre style=\"white-space:pre;overflow-x:auto;line-height:normal;font-family:Menlo,'DejaVu Sans Mono',consolas,'Courier New',monospace\"><span style=\"font-weight: bold\">Model: \"sequential\"</span>\n",
       "</pre>\n"
      ],
      "text/plain": [
       "\u001b[1mModel: \"sequential\"\u001b[0m\n"
      ]
     },
     "metadata": {},
     "output_type": "display_data"
    },
    {
     "data": {
      "text/html": [
       "<pre style=\"white-space:pre;overflow-x:auto;line-height:normal;font-family:Menlo,'DejaVu Sans Mono',consolas,'Courier New',monospace\">┏━━━━━━━━━━━━━━━━━━━━━━━━━━━━━━━━━┳━━━━━━━━━━━━━━━━━━━━━━━━┳━━━━━━━━━━━━━━━┓\n",
       "┃<span style=\"font-weight: bold\"> Layer (type)                    </span>┃<span style=\"font-weight: bold\"> Output Shape           </span>┃<span style=\"font-weight: bold\">       Param # </span>┃\n",
       "┡━━━━━━━━━━━━━━━━━━━━━━━━━━━━━━━━━╇━━━━━━━━━━━━━━━━━━━━━━━━╇━━━━━━━━━━━━━━━┩\n",
       "│ embedding (<span style=\"color: #0087ff; text-decoration-color: #0087ff\">Embedding</span>)           │ (<span style=\"color: #00d7ff; text-decoration-color: #00d7ff\">None</span>, <span style=\"color: #00af00; text-decoration-color: #00af00\">500</span>, <span style=\"color: #00af00; text-decoration-color: #00af00\">128</span>)       │     <span style=\"color: #00af00; text-decoration-color: #00af00\">1,280,000</span> │\n",
       "├─────────────────────────────────┼────────────────────────┼───────────────┤\n",
       "│ simple_rnn (<span style=\"color: #0087ff; text-decoration-color: #0087ff\">SimpleRNN</span>)          │ (<span style=\"color: #00d7ff; text-decoration-color: #00d7ff\">None</span>, <span style=\"color: #00af00; text-decoration-color: #00af00\">128</span>)            │        <span style=\"color: #00af00; text-decoration-color: #00af00\">32,896</span> │\n",
       "├─────────────────────────────────┼────────────────────────┼───────────────┤\n",
       "│ dense (<span style=\"color: #0087ff; text-decoration-color: #0087ff\">Dense</span>)                   │ (<span style=\"color: #00d7ff; text-decoration-color: #00d7ff\">None</span>, <span style=\"color: #00af00; text-decoration-color: #00af00\">1</span>)              │           <span style=\"color: #00af00; text-decoration-color: #00af00\">129</span> │\n",
       "└─────────────────────────────────┴────────────────────────┴───────────────┘\n",
       "</pre>\n"
      ],
      "text/plain": [
       "┏━━━━━━━━━━━━━━━━━━━━━━━━━━━━━━━━━┳━━━━━━━━━━━━━━━━━━━━━━━━┳━━━━━━━━━━━━━━━┓\n",
       "┃\u001b[1m \u001b[0m\u001b[1mLayer (type)                   \u001b[0m\u001b[1m \u001b[0m┃\u001b[1m \u001b[0m\u001b[1mOutput Shape          \u001b[0m\u001b[1m \u001b[0m┃\u001b[1m \u001b[0m\u001b[1m      Param #\u001b[0m\u001b[1m \u001b[0m┃\n",
       "┡━━━━━━━━━━━━━━━━━━━━━━━━━━━━━━━━━╇━━━━━━━━━━━━━━━━━━━━━━━━╇━━━━━━━━━━━━━━━┩\n",
       "│ embedding (\u001b[38;5;33mEmbedding\u001b[0m)           │ (\u001b[38;5;45mNone\u001b[0m, \u001b[38;5;34m500\u001b[0m, \u001b[38;5;34m128\u001b[0m)       │     \u001b[38;5;34m1,280,000\u001b[0m │\n",
       "├─────────────────────────────────┼────────────────────────┼───────────────┤\n",
       "│ simple_rnn (\u001b[38;5;33mSimpleRNN\u001b[0m)          │ (\u001b[38;5;45mNone\u001b[0m, \u001b[38;5;34m128\u001b[0m)            │        \u001b[38;5;34m32,896\u001b[0m │\n",
       "├─────────────────────────────────┼────────────────────────┼───────────────┤\n",
       "│ dense (\u001b[38;5;33mDense\u001b[0m)                   │ (\u001b[38;5;45mNone\u001b[0m, \u001b[38;5;34m1\u001b[0m)              │           \u001b[38;5;34m129\u001b[0m │\n",
       "└─────────────────────────────────┴────────────────────────┴───────────────┘\n"
      ]
     },
     "metadata": {},
     "output_type": "display_data"
    },
    {
     "data": {
      "text/html": [
       "<pre style=\"white-space:pre;overflow-x:auto;line-height:normal;font-family:Menlo,'DejaVu Sans Mono',consolas,'Courier New',monospace\"><span style=\"font-weight: bold\"> Total params: </span><span style=\"color: #00af00; text-decoration-color: #00af00\">1,313,027</span> (5.01 MB)\n",
       "</pre>\n"
      ],
      "text/plain": [
       "\u001b[1m Total params: \u001b[0m\u001b[38;5;34m1,313,027\u001b[0m (5.01 MB)\n"
      ]
     },
     "metadata": {},
     "output_type": "display_data"
    },
    {
     "data": {
      "text/html": [
       "<pre style=\"white-space:pre;overflow-x:auto;line-height:normal;font-family:Menlo,'DejaVu Sans Mono',consolas,'Courier New',monospace\"><span style=\"font-weight: bold\"> Trainable params: </span><span style=\"color: #00af00; text-decoration-color: #00af00\">1,313,025</span> (5.01 MB)\n",
       "</pre>\n"
      ],
      "text/plain": [
       "\u001b[1m Trainable params: \u001b[0m\u001b[38;5;34m1,313,025\u001b[0m (5.01 MB)\n"
      ]
     },
     "metadata": {},
     "output_type": "display_data"
    },
    {
     "data": {
      "text/html": [
       "<pre style=\"white-space:pre;overflow-x:auto;line-height:normal;font-family:Menlo,'DejaVu Sans Mono',consolas,'Courier New',monospace\"><span style=\"font-weight: bold\"> Non-trainable params: </span><span style=\"color: #00af00; text-decoration-color: #00af00\">0</span> (0.00 B)\n",
       "</pre>\n"
      ],
      "text/plain": [
       "\u001b[1m Non-trainable params: \u001b[0m\u001b[38;5;34m0\u001b[0m (0.00 B)\n"
      ]
     },
     "metadata": {},
     "output_type": "display_data"
    },
    {
     "data": {
      "text/html": [
       "<pre style=\"white-space:pre;overflow-x:auto;line-height:normal;font-family:Menlo,'DejaVu Sans Mono',consolas,'Courier New',monospace\"><span style=\"font-weight: bold\"> Optimizer params: </span><span style=\"color: #00af00; text-decoration-color: #00af00\">2</span> (12.00 B)\n",
       "</pre>\n"
      ],
      "text/plain": [
       "\u001b[1m Optimizer params: \u001b[0m\u001b[38;5;34m2\u001b[0m (12.00 B)\n"
      ]
     },
     "metadata": {},
     "output_type": "display_data"
    }
   ],
   "source": [
    "# Load the pre-trained model with ReLU activation\n",
    "model = load_model('SimpleRNN_IMDB.h5')\n",
    "model.summary()"
   ]
  },
  {
   "cell_type": "code",
   "execution_count": 4,
   "id": "37db8405",
   "metadata": {},
   "outputs": [
    {
     "data": {
      "text/plain": [
       "[array([[-0.04101884, -0.0424771 ,  0.04811657, ..., -0.00395051,\n",
       "         -0.04887892,  0.03163265],\n",
       "        [ 0.06534571,  0.00396851,  0.01329843, ..., -0.03588791,\n",
       "          0.05186432,  0.03984772],\n",
       "        [-0.15931143,  0.01052857,  0.06077613, ..., -0.08668766,\n",
       "         -0.046872  ,  0.08263481],\n",
       "        ...,\n",
       "        [-0.00946104, -0.03533787,  0.02647311, ..., -0.0048066 ,\n",
       "          0.04578942,  0.02226659],\n",
       "        [-0.07358496,  0.09586977, -0.11928216, ..., -0.07857927,\n",
       "         -0.14135483, -0.06945437],\n",
       "        [-0.01049363, -0.05160023, -0.05480058, ...,  0.0192502 ,\n",
       "          0.02876847,  0.03468209]], dtype=float32),\n",
       " array([[ 0.06913941, -0.0890803 ,  0.00656842, ...,  0.01783037,\n",
       "          0.04671234,  0.15576497],\n",
       "        [-0.08013975, -0.06215564, -0.00031942, ...,  0.0353758 ,\n",
       "         -0.0683153 , -0.15980352],\n",
       "        [-0.0279597 , -0.05086242, -0.06632957, ..., -0.04463923,\n",
       "          0.05587846, -0.09606165],\n",
       "        ...,\n",
       "        [-0.05133842, -0.01607654,  0.09399685, ..., -0.01345593,\n",
       "          0.00350816,  0.1615417 ],\n",
       "        [-0.08954646, -0.15889823, -0.02932612, ..., -0.01641347,\n",
       "          0.09740585,  0.1405277 ],\n",
       "        [-0.05391746,  0.09054267,  0.0378571 , ..., -0.06806167,\n",
       "          0.09463189, -0.1160863 ]], dtype=float32),\n",
       " array([[ 0.00394375, -0.11677036, -0.05739453, ...,  0.01415983,\n",
       "         -0.02059752,  0.01882763],\n",
       "        [-0.05717236, -0.08132821,  0.0260819 , ..., -0.04405454,\n",
       "          0.02631522, -0.00743023],\n",
       "        [ 0.02900739,  0.12927139, -0.15293147, ..., -0.02394928,\n",
       "         -0.01998345,  0.01723024],\n",
       "        ...,\n",
       "        [ 0.05721013, -0.06388377, -0.10018868, ..., -0.15485325,\n",
       "          0.20894031, -0.02328064],\n",
       "        [ 0.02603935, -0.08188266, -0.0811068 , ...,  0.1429306 ,\n",
       "         -0.1545651 , -0.02038058],\n",
       "        [-0.16959023, -0.06216893,  0.02670515, ...,  0.030055  ,\n",
       "          0.10521131,  0.19623749]], dtype=float32),\n",
       " array([-0.02559028, -0.04237006, -0.01314863,  0.02981041, -0.02170193,\n",
       "         0.00982625, -0.02077399, -0.0410242 , -0.0267445 , -0.00695378,\n",
       "        -0.01369402, -0.02483614, -0.01740261,  0.01307393, -0.03642344,\n",
       "        -0.02558135,  0.04213011, -0.02731599, -0.00101621, -0.01031365,\n",
       "         0.0085987 ,  0.03288075, -0.03013692, -0.0199775 , -0.01179745,\n",
       "         0.02322331, -0.05031069,  0.01569621, -0.00702569, -0.04285901,\n",
       "        -0.04107109, -0.03848432, -0.01828796, -0.03626187, -0.01042995,\n",
       "        -0.02651139, -0.02011839, -0.00090155,  0.00299125, -0.03110194,\n",
       "        -0.03859664,  0.02024644, -0.00647582, -0.00634142, -0.03826324,\n",
       "        -0.00180811, -0.00510077, -0.03137792, -0.03286659,  0.01479791,\n",
       "        -0.01523882,  0.02335634,  0.0340387 ,  0.00879545,  0.01203685,\n",
       "        -0.00909349,  0.07832967, -0.05184433, -0.02362413, -0.01926753,\n",
       "         0.01093053,  0.00283281,  0.01076411, -0.05325248,  0.01504713,\n",
       "        -0.03359761, -0.03190654, -0.00992292,  0.03373376,  0.03480873,\n",
       "         0.02886037, -0.01090202, -0.03470019,  0.00658894, -0.03695886,\n",
       "        -0.04479965,  0.00139858, -0.02203573, -0.04036843,  0.02438175,\n",
       "        -0.01561543,  0.00193815, -0.04504697,  0.03086299, -0.03924089,\n",
       "        -0.01050451, -0.02720803, -0.04389174,  0.04652751, -0.02175523,\n",
       "        -0.04857069, -0.03106395, -0.0366981 , -0.01035061,  0.0155952 ,\n",
       "        -0.03828654,  0.03604956, -0.0322839 , -0.01022462, -0.02905272,\n",
       "         0.00982965, -0.03316179,  0.02532692, -0.03994533,  0.016116  ,\n",
       "        -0.00465011, -0.00980011, -0.00921582, -0.00125597,  0.023576  ,\n",
       "        -0.00571132, -0.02655767, -0.0140528 , -0.01537321, -0.00326084,\n",
       "        -0.03226636, -0.03726273, -0.03066724, -0.03285243, -0.03090994,\n",
       "        -0.01179883, -0.04623649, -0.00875805,  0.00756105, -0.02757066,\n",
       "         0.01881423, -0.03689399,  0.02449313], dtype=float32),\n",
       " array([[-0.1662737 ],\n",
       "        [-0.02288906],\n",
       "        [-0.265606  ],\n",
       "        [-0.01906682],\n",
       "        [ 0.2968176 ],\n",
       "        [-0.02592366],\n",
       "        [ 0.14940202],\n",
       "        [-0.0913625 ],\n",
       "        [ 0.27529088],\n",
       "        [-0.0617177 ],\n",
       "        [ 0.30609232],\n",
       "        [-0.20592707],\n",
       "        [ 0.22270651],\n",
       "        [-0.12198304],\n",
       "        [-0.16875151],\n",
       "        [ 0.07093956],\n",
       "        [ 0.2410449 ],\n",
       "        [-0.05254907],\n",
       "        [-0.25442743],\n",
       "        [ 0.01999788],\n",
       "        [-0.11039971],\n",
       "        [ 0.04551626],\n",
       "        [-0.1283437 ],\n",
       "        [ 0.11880565],\n",
       "        [ 0.07250417],\n",
       "        [ 0.06765217],\n",
       "        [ 0.00644646],\n",
       "        [ 0.21583493],\n",
       "        [-0.07408614],\n",
       "        [ 0.25371513],\n",
       "        [-0.08853546],\n",
       "        [-0.14430991],\n",
       "        [-0.08455922],\n",
       "        [-0.17236924],\n",
       "        [ 0.13789915],\n",
       "        [-0.20062688],\n",
       "        [-0.20162645],\n",
       "        [ 0.01969719],\n",
       "        [-0.5311763 ],\n",
       "        [-0.19019023],\n",
       "        [-0.13839982],\n",
       "        [-0.14961535],\n",
       "        [ 0.12325039],\n",
       "        [-0.25642577],\n",
       "        [-0.1362784 ],\n",
       "        [-0.1822481 ],\n",
       "        [-0.03804467],\n",
       "        [-0.12702289],\n",
       "        [-0.00983905],\n",
       "        [-0.20238766],\n",
       "        [-0.2641548 ],\n",
       "        [ 0.14719974],\n",
       "        [-0.20511521],\n",
       "        [-0.18412144],\n",
       "        [ 0.18762147],\n",
       "        [-0.05643637],\n",
       "        [-0.4059834 ],\n",
       "        [ 0.2088528 ],\n",
       "        [ 0.17949262],\n",
       "        [-0.2049986 ],\n",
       "        [ 0.26852497],\n",
       "        [ 0.01268791],\n",
       "        [-0.03258823],\n",
       "        [-0.028555  ],\n",
       "        [-0.09139007],\n",
       "        [-0.12069016],\n",
       "        [ 0.40600422],\n",
       "        [-0.00981552],\n",
       "        [-0.39981613],\n",
       "        [-0.25721982],\n",
       "        [-0.20829439],\n",
       "        [-0.09319942],\n",
       "        [-0.19225012],\n",
       "        [ 0.08999041],\n",
       "        [ 0.08296807],\n",
       "        [-0.10601514],\n",
       "        [-0.1598895 ],\n",
       "        [-0.10330065],\n",
       "        [ 0.21028486],\n",
       "        [-0.16293743],\n",
       "        [-0.13273706],\n",
       "        [-0.07355279],\n",
       "        [ 0.01243244],\n",
       "        [-0.10300966],\n",
       "        [-0.13846563],\n",
       "        [-0.2394071 ],\n",
       "        [-0.15679643],\n",
       "        [ 0.20942345],\n",
       "        [-0.08724483],\n",
       "        [-0.07295755],\n",
       "        [-0.2166103 ],\n",
       "        [-0.03950757],\n",
       "        [-0.02098344],\n",
       "        [ 0.03660549],\n",
       "        [ 0.14117138],\n",
       "        [ 0.16500202],\n",
       "        [-0.17966276],\n",
       "        [-0.05081033],\n",
       "        [-0.04055472],\n",
       "        [-0.08286581],\n",
       "        [-0.0998493 ],\n",
       "        [-0.13334256],\n",
       "        [-0.11622009],\n",
       "        [ 0.16103579],\n",
       "        [-0.06501   ],\n",
       "        [ 0.22427039],\n",
       "        [-0.09965194],\n",
       "        [-0.14716308],\n",
       "        [ 0.11463082],\n",
       "        [-0.25587767],\n",
       "        [ 0.12047048],\n",
       "        [-0.11769986],\n",
       "        [ 0.02542669],\n",
       "        [-0.13577631],\n",
       "        [ 0.06255706],\n",
       "        [ 0.11892552],\n",
       "        [-0.16017944],\n",
       "        [-0.08434836],\n",
       "        [-0.16913143],\n",
       "        [-0.2205373 ],\n",
       "        [-0.00279049],\n",
       "        [ 0.16980505],\n",
       "        [ 0.31628597],\n",
       "        [-0.03570701],\n",
       "        [-0.24744523],\n",
       "        [-0.09733496],\n",
       "        [ 0.03918161],\n",
       "        [ 0.06608623]], dtype=float32),\n",
       " array([-0.67464155], dtype=float32)]"
      ]
     },
     "execution_count": 4,
     "metadata": {},
     "output_type": "execute_result"
    }
   ],
   "source": [
    "model.get_weights()"
   ]
  },
  {
   "cell_type": "markdown",
   "id": "34d40160",
   "metadata": {},
   "source": [
    "# Step 2: Helper Functions"
   ]
  },
  {
   "cell_type": "code",
   "execution_count": 5,
   "id": "87485534",
   "metadata": {},
   "outputs": [],
   "source": [
    "\n",
    "\n",
    "# Function to decode reviews\n",
    "def decode_review(encoded_review):\n",
    "    return ' '.join([reverse_word_index.get(i - 3, '?') for i in encoded_review])\n",
    "\n",
    "# Function to preprocess user input\n",
    "def preprocess_text(text):\n",
    "    words = text.lower().split()\n",
    "    encoded_review = [word_index.get(word, 2) + 3 for word in words]\n",
    "    padded_review = sequence.pad_sequences([encoded_review], maxlen=500)\n",
    "    return padded_review"
   ]
  },
  {
   "cell_type": "markdown",
   "id": "4053d9b7",
   "metadata": {},
   "source": [
    "### Prediction  function\n"
   ]
  },
  {
   "cell_type": "code",
   "execution_count": 8,
   "id": "c38eb3d1",
   "metadata": {},
   "outputs": [],
   "source": [
    "\n",
    "def predict_sentiment(review):\n",
    "    preprocessed_input=preprocess_text(review)\n",
    "\n",
    "    prediction=model.predict(preprocessed_input)\n",
    "\n",
    "    sentiment = 'Positive' if prediction[0][0] > 0.5 else 'Negative'\n",
    "    \n",
    "    return sentiment, prediction[0][0]\n",
    "\n"
   ]
  },
  {
   "cell_type": "markdown",
   "id": "c76bb09d",
   "metadata": {},
   "source": [
    "# Step 4: User Input and Prediction"
   ]
  },
  {
   "cell_type": "code",
   "execution_count": 6,
   "id": "c614e8cb",
   "metadata": {},
   "outputs": [],
   "source": [
    "# Example review for prediction\n",
    "example_review = \"This movie was fantastic! The acting was great and the plot was thrilling.\"\n"
   ]
  },
  {
   "cell_type": "code",
   "execution_count": 9,
   "id": "9cb6c5b4",
   "metadata": {},
   "outputs": [
    {
     "name": "stdout",
     "output_type": "stream",
     "text": [
      "\u001b[1m1/1\u001b[0m \u001b[32m━━━━━━━━━━━━━━━━━━━━\u001b[0m\u001b[37m\u001b[0m \u001b[1m1s\u001b[0m 812ms/step\n",
      "Review: This movie was fantastic! The acting was great and the plot was thrilling.\n",
      "Sentiment: Negative\n",
      "Prediction Score: 0.4717388153076172\n"
     ]
    }
   ],
   "source": [
    "\n",
    "sentiment, score=predict_sentiment(example_review)\n",
    "\n",
    "print(f'Review: {example_review}')\n",
    "print(f'Sentiment: {sentiment}')\n",
    "print(f'Prediction Score: {score}')"
   ]
  },
  {
   "cell_type": "code",
   "execution_count": 13,
   "id": "4239843c",
   "metadata": {},
   "outputs": [
    {
     "name": "stdout",
     "output_type": "stream",
     "text": [
      "\u001b[1m1/1\u001b[0m \u001b[32m━━━━━━━━━━━━━━━━━━━━\u001b[0m\u001b[37m\u001b[0m \u001b[1m0s\u001b[0m 235ms/step\n",
      "Review: This movie was Horror, But i liked it\n",
      "Sentiment: Negative\n",
      "Prediction Score: 0.4778536856174469\n"
     ]
    }
   ],
   "source": [
    "# Example review 2 for prediction\n",
    "example_review_2 = \"This movie was Horror, But i liked it\"\n",
    "\n",
    "\n",
    "sentiment, score=predict_sentiment(example_review_2)\n",
    "\n",
    "print(f'Review: {example_review_2}')\n",
    "print(f'Sentiment: {sentiment}')\n",
    "print(f'Prediction Score: {score}')\n"
   ]
  },
  {
   "cell_type": "code",
   "execution_count": 14,
   "id": "d1b0d3da",
   "metadata": {},
   "outputs": [
    {
     "name": "stdout",
     "output_type": "stream",
     "text": [
      "\u001b[1m1/1\u001b[0m \u001b[32m━━━━━━━━━━━━━━━━━━━━\u001b[0m\u001b[37m\u001b[0m \u001b[1m0s\u001b[0m 255ms/step\n",
      "Review: It was a wonderful Movie, I loved it\n",
      "Sentiment: Positive\n",
      "Prediction Score: 0.7294249534606934\n"
     ]
    }
   ],
   "source": [
    "# Example review 2 for prediction\n",
    "example_review_3 = \"It was a wonderful Movie, I loved it\"\n",
    "\n",
    "\n",
    "sentiment, score=predict_sentiment(example_review_3)\n",
    "\n",
    "print(f'Review: {example_review_3}')\n",
    "print(f'Sentiment: {sentiment}')\n",
    "print(f'Prediction Score: {score}')\n"
   ]
  },
  {
   "cell_type": "code",
   "execution_count": 15,
   "id": "89f6c62a",
   "metadata": {},
   "outputs": [
    {
     "name": "stdout",
     "output_type": "stream",
     "text": [
      "\u001b[1m1/1\u001b[0m \u001b[32m━━━━━━━━━━━━━━━━━━━━\u001b[0m\u001b[37m\u001b[0m \u001b[1m0s\u001b[0m 215ms/step\n",
      "Review: It was a wonderful Horror Movie, I loved it\n",
      "Sentiment: Positive\n",
      "Prediction Score: 0.7075713872909546\n"
     ]
    }
   ],
   "source": [
    "# Example review 2 for prediction\n",
    "example_review_4 = \"It was a wonderful Horror Movie, I loved it\"\n",
    "\n",
    "\n",
    "sentiment, score=predict_sentiment(example_review_4)\n",
    "\n",
    "print(f'Review: {example_review_4}')\n",
    "print(f'Sentiment: {sentiment}')\n",
    "print(f'Prediction Score: {score}')\n"
   ]
  },
  {
   "cell_type": "code",
   "execution_count": null,
   "id": "0395f475",
   "metadata": {},
   "outputs": [],
   "source": []
  }
 ],
 "metadata": {
  "kernelspec": {
   "display_name": "Python 3",
   "language": "python",
   "name": "python3"
  },
  "language_info": {
   "codemirror_mode": {
    "name": "ipython",
    "version": 3
   },
   "file_extension": ".py",
   "mimetype": "text/x-python",
   "name": "python",
   "nbconvert_exporter": "python",
   "pygments_lexer": "ipython3",
   "version": "3.12.7"
  }
 },
 "nbformat": 4,
 "nbformat_minor": 5
}
